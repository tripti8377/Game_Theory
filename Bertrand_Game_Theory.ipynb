{
  "nbformat": 4,
  "nbformat_minor": 0,
  "metadata": {
    "colab": {
      "provenance": [],
      "authorship_tag": "ABX9TyNfCVtp3m8JhHlgie5dtbFI",
      "include_colab_link": true
    },
    "kernelspec": {
      "name": "python3",
      "display_name": "Python 3"
    },
    "language_info": {
      "name": "python"
    }
  },
  "cells": [
    {
      "cell_type": "markdown",
      "metadata": {
        "id": "view-in-github",
        "colab_type": "text"
      },
      "source": [
        "<a href=\"https://colab.research.google.com/github/tripti8377/Game_Theory/blob/main/Bertrand_Game_Theory.ipynb\" target=\"_parent\"><img src=\"https://colab.research.google.com/assets/colab-badge.svg\" alt=\"Open In Colab\"/></a>"
      ]
    },
    {
      "cell_type": "code",
      "execution_count": 1,
      "metadata": {
        "colab": {
          "base_uri": "https://localhost:8080/"
        },
        "id": "Iklu7YIlrPOy",
        "outputId": "a734aeea-1f54-41fc-a621-ea989f08ae41"
      },
      "outputs": [
        {
          "output_type": "stream",
          "name": "stdout",
          "text": [
            "Enter the price of original ticket: 1500\n",
            "Enter the price offered by student1: 1500\n",
            "Enter the price offerred by student3: 1500\n",
            "Both students get the offer.This is the optimal price!\n"
          ]
        }
      ],
      "source": [
        "t = float(input(\"Enter the price of original ticket: \"))\n",
        "t1 = float(input(\"Enter the price offered by student1: \"))\n",
        "t2 = float(input(\"Enter the price offerred by student3: \"))\n",
        "\n",
        "if((t1>t2) and t2>=t):\n",
        "  print(\"Student3 accepts student2's offer\")\n",
        "  print(\"The optimal price offering would have been: \", t)\n",
        "elif((t2>t1) and t1>=t):\n",
        "  print(\"Student3 accepts student1's offer\")\n",
        "  print(\"The optimal price offering would have been: \", t)\n",
        "elif((t1==t2) and t1>t):\n",
        "  print(\"Both students get the offer.However, if one student lowers the price even by a very small amount the other will lose the offer.\")\n",
        "  print(\"The optimal price offering would have been: \", t)\n",
        "elif((t1==t2) and (t2==t)):\n",
        "  print(\"Both students get the offer.This is the optimal price!\")\n",
        "else:\n",
        "  print(\"Invalid Input\")"
      ]
    }
  ]
}